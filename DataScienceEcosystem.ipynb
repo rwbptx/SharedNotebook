{
 "cells": [
  {
   "cell_type": "markdown",
   "id": "55c99012-38e6-4ea0-9d64-77d402ddb761",
   "metadata": {},
   "source": [
    "# Data Science Tools and Ecosystem"
   ]
  },
  {
   "cell_type": "markdown",
   "id": "3b7714e9-c942-40b6-9329-309898c2283c",
   "metadata": {},
   "source": [
    "In this notebook, Data Science Tools and Ecosystem are summarized."
   ]
  },
  {
   "cell_type": "markdown",
   "id": "6e6baa5b-cb0a-4acc-b31e-2d9b2a0eaaaa",
   "metadata": {},
   "source": [
    "Some of the popular languages that Data Scientists use are:\n",
    "1. Python\n",
    "2. R\n",
    "3. SQL"
   ]
  },
  {
   "cell_type": "markdown",
   "id": "41fcdc0d-cb46-4b30-b8ac-87a13178945b",
   "metadata": {},
   "source": [
    "Some of the commonly used libraries used by Data Scientists include:\n",
    "1. Pandas\n",
    "2. NumPy\n",
    "3. Matplotlib"
   ]
  },
  {
   "cell_type": "markdown",
   "id": "4a9b1948-ea01-4b32-b2b2-8909013fbe77",
   "metadata": {},
   "source": [
    "|Data Science Tools | \n",
    "|--------|\n",
    "|  Jupyter Notebook   |\n",
    "|  Apache Spark   | \n",
    "|  Hadoop   | "
   ]
  },
  {
   "cell_type": "markdown",
   "id": "086b0785-70f7-4ca4-bc4d-51f138e08431",
   "metadata": {},
   "source": [
    "### Below are a few examples of evaluating arithmetic expressions in Python"
   ]
  },
  {
   "cell_type": "code",
   "execution_count": 4,
   "id": "80b44374-e7df-4496-b1a7-45900f8c2a1d",
   "metadata": {},
   "outputs": [
    {
     "data": {
      "text/plain": [
       "17"
      ]
     },
     "execution_count": 4,
     "metadata": {},
     "output_type": "execute_result"
    }
   ],
   "source": [
    "#This a simple arithmetic expression to mutiply then add integers\n",
    "(3*4)+5"
   ]
  },
  {
   "cell_type": "code",
   "execution_count": 6,
   "id": "c4862efb-a66b-46eb-96d3-1439108294a6",
   "metadata": {},
   "outputs": [
    {
     "name": "stdout",
     "output_type": "stream",
     "text": [
      "200 minutes =  3.3333333333333335  hours.\n"
     ]
    }
   ],
   "source": [
    "#This will convert 200 minutes to hours by diving by 60\n",
    "print('200 minutes = ',200/60,' hours.')"
   ]
  },
  {
   "cell_type": "markdown",
   "id": "e4eee525-bd91-45c8-8a42-ad47aceb3b4c",
   "metadata": {},
   "source": [
    "**Objectives:**\n",
    "* languages used by data scientists\n",
    "* Commonly used libraries used by data scientists\n",
    "* Data Science tools"
   ]
  },
  {
   "cell_type": "markdown",
   "id": "6cf12a67-40ef-41c9-8b59-a0c558ed5998",
   "metadata": {},
   "source": [
    "## Author\n",
    "Rob B."
   ]
  },
  {
   "cell_type": "code",
   "execution_count": null,
   "id": "33001d50-40a1-44d7-bb96-92e426d6e43a",
   "metadata": {},
   "outputs": [],
   "source": []
  }
 ],
 "metadata": {
  "kernelspec": {
   "display_name": "Python 3 (ipykernel)",
   "language": "python",
   "name": "python3"
  },
  "language_info": {
   "codemirror_mode": {
    "name": "ipython",
    "version": 3
   },
   "file_extension": ".py",
   "mimetype": "text/x-python",
   "name": "python",
   "nbconvert_exporter": "python",
   "pygments_lexer": "ipython3",
   "version": "3.12.4"
  }
 },
 "nbformat": 4,
 "nbformat_minor": 5
}
